# FEATURE ENGINEERING

import pandas as pd
import nltk
from nltk.sentiment.vader import SentimentIntensityAnalyzer

# Ensure you have the necessary NLTK data
nltk.download('vader_lexicon')

# Load the preprocessed data
data_df = pd.read_csv('preprocessed_reviews.csv')

# Initialize VADER sentiment analyzer
sid = SentimentIntensityAnalyzer()

# Function to apply VADER and label sentiment based on the compound score
def get_sentiment_score(text):
    sentiment = sid.polarity_scores(text)
    return sentiment['compound']  # Extract the compound score as a general sentiment score

def get_sentiment_label(score):
    if score >= 0.05:
        return 'Positive'
    elif score <= -0.05:
        return 'Negative'
    else:
        return 'Neutral'

# Apply the sentiment functions to the cleaned review text
data_df['Sentiment Score'] = data_df['Cleaned Review Body'].apply(get_sentiment_score)
data_df['Sentiment Label'] = data_df['Sentiment Score'].apply(get_sentiment_label)

# Aspect-based Sentiment Analysis
aspect_keywords = {
    'Food & Beverages': ['food', 'meal', 'drink', 'beverage', 'snack'],
    'Entertainment': ['entertainment', 'movies', 'tv', 'music', 'game', 'wifi'],
    'Seat Comfort': ['seat', 'comfort', 'legroom', 'space'],
    'Cabin Staff Service': ['staff', 'service', 'crew', 'attendant'],
    'Value For Money': ['value', 'price', 'money', 'cost', 'worth']
}

# Function to calculate sentiment for a given aspect phrase
def aspect_sentiment(text):
    sentiment = sid.polarity_scores(text)
    return sentiment['compound']

# Function to perform aspect-based sentiment analysis
def get_aspect_sentiments(review):
    aspect_sentiments = {}
    for aspect, keywords in aspect_keywords.items():
        # Extract sentences related to the current aspect
        aspect_text = ' '.join([sentence for sentence in review.split('.') 
                                if any(keyword in sentence for keyword in keywords)])
        
        # Calculate sentiment score for the aspect text if not empty
        aspect_sentiments[aspect + ' Sentiment Score'] = aspect_sentiment(aspect_text) if aspect_text else 0
        aspect_sentiments[aspect + ' Sentiment Label'] = get_sentiment_label(aspect_sentiments[aspect + ' Sentiment Score'])
    return aspect_sentiments

# Apply aspect-based sentiment analysis to each review
aspect_sentiments_df = data_df['Cleaned Review Body'].apply(get_aspect_sentiments).apply(pd.Series)

# Merge the aspect sentiments back into the main DataFrame
data_df = pd.concat([data_df, aspect_sentiments_df], axis=1)

# List of aspect rating columns already present in data
aspect_rating_columns = ['Food & Beverages', 'Entertainment', 'Seat Comfort', 
                         'Cabin Staff Service', 'Value For Money']

# Calculate Aggregate Rating for each review based on the available aspect ratings
data_df['Aggregate Rating'] = data_df[aspect_rating_columns].mean(axis=1)

# Add the Seat Type column
data_df['Seat Type'] = data_df['Seat Type']  # Ensure 'Seat Type' is in your data

# Remove discrepancies (Positive sentiment with low ratings or Negative sentiment with high ratings)
cleaned_data_df = data_df[~((data_df['Sentiment Label'] == 'Positive') & (data_df['Aggregate Rating'] < 3.0)) &
                          ~((data_df['Sentiment Label'] == 'Negative') & (data_df['Aggregate Rating'] >= 3.0))]

# Output the DataFrame with the new sentiment columns, aspect ratings, aspect sentiment scores, aggregate rating, and seat type
print("Data after Feature Engineering:")
print(data_df[['Cleaned Review Body', 'Sentiment Score', 'Sentiment Label', 'Aggregate Rating', 'Seat Type'] + 
              aspect_rating_columns + 
              [col for col in aspect_sentiments_df.columns]].head())

# Save the DataFrame with sentiment data, aspect ratings, aspect sentiment scores, aggregate rating, and seat type to a new CSV file
data_df.to_csv('feature_engineered.csv', index=False) 
