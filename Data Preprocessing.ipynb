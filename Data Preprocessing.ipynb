
# DATA PREPROCESSING

import pandas as pd
import re
import nltk
from nltk.corpus import stopwords
from sklearn.preprocessing import LabelEncoder

# Ensure you have the necessary NLTK data
nltk.download('stopwords')
stop_words = set(stopwords.words('english'))

# Load Data
data_df = pd.read_csv('airline_reviews.csv')

# Data Cleaning
# a. Filter Trip-Verified Reviews
data_df = data_df[data_df['Review Body'].str.startswith("✅Trip Verified")]

# b. Remove Duplicates
data_df = data_df.drop_duplicates(subset=['Review Body'], keep='first')

# c. Handle Missing Values
# Remove rows with missing critical fields (for example, Ratings)
data_df = data_df.dropna(subset=['Type of Traveller', 'Food & Beverages', 'Entertainment', 'Seat Comfort', 'Cabin Staff Service', 'Value For Money'])

# Text Normalization
def clean_text(text):
    text = text.lower()  # Convert to lowercase
    text = re.sub(r'[^\w\s]', '', text)  # Remove punctuation and special characters
    text = ' '.join(word for word in text.split() if word not in stop_words)  # Remove stop words
    return text

data_df['Cleaned Review Body'] = data_df['Review Body'].apply(clean_text)

# Encode Categorical Data
# Use Label Encoding for binary categories and One-Hot Encoding for others
label_encoder = LabelEncoder()

# Binary Encoding for 'Recommended' ('yes'/'no' -> 1/0)
data_df['Recommended'] = label_encoder.fit_transform(data_df['Recommended'])

# Label Encoding for 'Type of Traveller' and 'Seat Type' (few unique values)
data_df['Type of Traveller'] = label_encoder.fit_transform(data_df['Type of Traveller'])
data_df['Seat Type'] = label_encoder.fit_transform(data_df['Seat Type'])

# One-Hot Encoding for 'Airline' (multiple unique values)
data_df = pd.get_dummies(data_df, columns=['Airline'], drop_first=True)

# Output the transformed DataFrame
print("Data after preprocessing and encoding:")
print(data_df.head())

# Save the preprocessed and encoded data to a new CSV file
data_df.to_csv('preprocessed_reviews.csv', index=False)
