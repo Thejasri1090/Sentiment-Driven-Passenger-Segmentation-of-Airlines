# EDA and VISUALIZATION

import pandas as pd
import matplotlib.pyplot as plt
import seaborn as sns

# Load the data with sentiment and aspect-based sentiment information
data_df = pd.read_csv('feature_engineered.csv')


# Basic Information Overview
print("Basic Information Overview:")
print(data_df.info())

# Check for missing values
print("\nMissing Values:")
print(data_df.isnull().sum())

# Descriptive Statistics
print("\nDescriptive Statistics:")
print(data_df.describe())

# Sentiment Distribution
plt.figure(figsize=(10, 6))
sns.countplot(data=data_df, x='Sentiment Label', hue='Sentiment Label', palette='Set2', legend=False)
plt.title('Distribution of Sentiment Labels')
plt.xlabel('Sentiment Label')
plt.ylabel('Count')
plt.show()

# Sentiment Score distribution
plt.figure(figsize=(10, 6))
sns.histplot(data_df['Sentiment Score'], kde=True, bins=30, color='blue')
plt.title('Distribution of Sentiment Scores')
plt.xlabel('Sentiment Score')
plt.ylabel('Frequency')
plt.show()

# Aggregate Rating distribution 
print("\nAggregate Rating Summary")
print(data_df['Aggregate Rating'].describe())
plt.figure(figsize=(8, 6))
sns.histplot(data=data_df, x='Aggregate Rating', bins=20, kde=True, color='skyblue')
plt.title("\nDistribution of Aggregate Ratings")
plt.xlabel("Aggregate Rating")
plt.ylabel("Frequency")
plt.show()


# Aspect Sentiment Analysis
# Sentiment distribution for each aspect
aspect_columns = [col for col in data_df.columns if 'Sentiment Score' in col]
plt.figure(figsize=(15, 8))
for i, aspect in enumerate(aspect_columns):
    plt.subplot(2, 3, i+1)
    sns.histplot(data_df[aspect], kde=True, bins=20, color='purple')
    plt.title(f'Distribution of {aspect}')
    plt.xlabel('Sentiment Score')
    plt.ylabel('Frequency')

plt.tight_layout()
plt.show()

# Aspect Rating Distribution
# Aspect Rating distribution for each aspect (e.g., Food & Beverages, Entertainment, etc.)
aspect_rating_columns = ['Food & Beverages', 'Entertainment', 'Seat Comfort', 'Cabin Staff Service', 'Value For Money']

plt.figure(figsize=(15, 8))
for i, aspect in enumerate(aspect_rating_columns):
    plt.subplot(2, 3, i+1)
    sns.histplot(data_df[aspect], kde=True, bins=10, color='green')
    plt.title(f'Distribution of {aspect} Ratings')
    plt.xlabel(f'{aspect} Rating')
    plt.ylabel('Frequency')

plt.tight_layout()
plt.show()

# Distribution of Sentiment Labels by Aspect with 'cubehelix' palette
aspect_sentiment_labels = [col for col in data_df.columns if 'Sentiment Label' in col and col != 'Sentiment Label']
for aspect_label in aspect_sentiment_labels:
    plt.figure(figsize=(8, 6))
    sns.countplot(data=data_df, x=aspect_label, hue=aspect_label, palette='cubehelix', legend=False)
    plt.title(f"Distribution of {aspect_label}")
    plt.xlabel(aspect_label)
    plt.ylabel("Count")
    plt.show()

# Selecting only numerical columns
numerical_columns = data_df.select_dtypes(include='number').columns

# Compute the correlation matrix for numerical features
corr_matrix = data_df[numerical_columns].corr()

# Plot the correlation heatmap
plt.figure(figsize=(10, 8))
sns.heatmap(corr_matrix, annot=True, cmap='coolwarm', fmt='.2f', cbar=True, linewidths=0.5)
plt.title("Correlation Heatmap of Numerical Features")
plt.show()

print("EDA complete.")
