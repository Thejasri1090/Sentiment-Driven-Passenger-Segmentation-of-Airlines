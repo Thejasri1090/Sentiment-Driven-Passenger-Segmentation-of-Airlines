# VISUALIZING K-MEANS CLUSTERS WITH CENTROIDS

import pandas as pd
import numpy as np
import matplotlib.pyplot as plt
import seaborn as sns

# Get PCA component loadings
loadings = pd.DataFrame(pca.components_.T, columns=['PC1', 'PC2'], index=features)

# Display the loadings to see feature contributions
print("Feature contributions to PCA components:")
print(loadings)

# Plot loadings for a visual representation
plt.figure(figsize=(10, 6))
sns.heatmap(loadings, annot=True, cmap='coolwarm', center=0)
plt.title('Feature Contribution to PCA Components')
plt.xlabel('Principal Components')
plt.ylabel('Features')
plt.show()

# Assigning descriptive cluster names based on feature analysis
cluster_names = {
    0: 'Elite Flyers',        
    1: 'Content Flyers',      
    2: 'Happy Flyers',        
    3: 'Frustrated Flyers'    
}

# Map the cluster labels to names
data_df['Cluster Name'] = data_df['KMeans Cluster'].map(cluster_names)

# Visualize the clusters in the PCA space with assigned names
plt.figure(figsize=(12, 8))

# Scatter plot of points, color-coded by cluster
sns.scatterplot(x=pca_features[:, 0], 
                y=pca_features[:, 1], 
                hue=data_df['KMeans Cluster'].astype(str), 
                palette='deep', 
                s=100, 
                alpha=0.7, 
                edgecolor='w')

# Mark the centroids
centroids = kmeans.cluster_centers_
plt.scatter(centroids[:, 0], centroids[:, 1], c='black', marker='X', s=200, label='Centroids')

# Set custom legend labels for clusters
handles, labels = plt.gca().get_legend_handles_labels()

# Replace numeric labels with the descriptive cluster names
label_map = {str(k): v for k, v in cluster_names.items()}
new_labels = [label_map[label] if label in label_map else label for label in labels]

# Add the legend with the descriptive cluster names
plt.legend(handles=handles, labels=new_labels + ['Centroids'], title='Cluster Name')

plt.title('Cluster Visualization with PCA Components and Centroids', fontsize=16)
plt.xlabel('Principal Component 1', fontsize=14)
plt.ylabel('Principal Component 2', fontsize=14)
plt.grid(True)
plt.show()

# Print summary statistics and interpretation for each cluster
for name in cluster_names.values():
    print(f"\n{name} Summary:")
    cluster_data = data_df[data_df['Cluster Name'] == name][features].mean()
    print(cluster_data)

    # Interpretation based on the feature averages
    if name == 'Elite Flyers':
        print("""
Interpretation: This cluster represents the most satisfied passengers, with very high sentiment scores and aggregate ratings. 
\n'Elite Flyers' have an exceptional experience across all service aspects, indicating top-tier satisfaction in food, seat comfort, and cabin staff service. These passengers are highly engaged and loyal.
\nInsight: Airlines should focus on nurturing this group with loyalty programs, premium services, and personalized experiences. Ensuring that these passengers feel valued will help maintain their high satisfaction levels.
        """)
    elif name == 'Content Flyers':
        print("""
Interpretation: This cluster shows moderate satisfaction, with slightly negative sentiment scores but favorable ratings in key areas like food, comfort, and service. 
\n'Content Flyers' represent passengers who are generally satisfied but may have areas where improvements could be made. 
\nInsight: Airlines should focus on enhancing small aspects of the experience (e.g., improving seat comfort or food quality) to increase satisfaction and potentially convert them into "Elite Flyers."
        """)
    elif name == 'Happy Flyers':
        print("""
Interpretation: While this cluster has slightly lower ratings and moderate dissatisfaction, the positive sentiment scores in some areas suggest that these passengers still maintain a generally good impression of the airline. 
\n'Happy Flyers' are not fully satisfied but their overall sentiment remains positive. 
\nInsight: Airlines have the opportunity to turn these passengers' experience around. Improving their experiences in specific service areas (like food or cabin service) could elevate them to higher satisfaction levels.
        """)
    elif name == 'Frustrated Flyers':
        print("""
Interpretation: This cluster exhibits the lowest ratings and negative sentiment across all service aspects. These passengers are highly dissatisfied with their experience, particularly with seat comfort, food, and staff service.
\n'Frustrated Flyers' are the most at risk of churn and dissatisfaction. 
\nInsight: Airlines must take immediate action to address the concerns of this group. This could include significant service improvements or offering compensations to restore their satisfaction. Targeted recovery programs are necessary to win back their trust.
        """)
